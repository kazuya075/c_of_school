{
 "cells": [
  {
   "cell_type": "code",
   "execution_count": 1,
   "metadata": {
    "collapsed": true
   },
   "outputs": [],
   "source": [
    "from collections import Counter\n",
    "import collections\n"
   ]
  },
  {
   "cell_type": "code",
   "execution_count": 2,
   "metadata": {},
   "outputs": [
    {
     "name": "stdout",
     "output_type": "stream",
     "text": [
      "各文字の出現回数 Counter({'e': 195, 'a': 165, 't': 125, 'n': 115, 'o': 107, 's': 93, 'h': 89, 'i': 83, 'r': 82, 'l': 77, 'd': 76, 'w': 40, 'c': 36, 'm': 34, 'u': 31, 'f': 27, 'g': 26, 'p': 26, 'b': 25, 'y': 24, '.': 18, ',': 15, 'k': 14, 'v': 12, 'I': 9, '1': 8, \"'\": 8, 'T': 7, 'N': 6, '5': 6, 'S': 6, '\"': 6, 'W': 4, 'Z': 4, 'A': 4, '2': 4, '-': 4, '(': 3, ')': 3, 'j': 3, 'D': 3, 'C': 3, 'O': 3, '4': 2, 'R': 2, 'P': 2, 'M': 1, 'B': 1, 'x': 1, 'L': 1, 'H': 1, '8': 1, 'F': 1, 'J': 1, '0': 1})\n",
      "文字の異なり数 55\n",
      "総数 1644\n"
     ]
    }
   ],
   "source": [
    "data= open(\"bbc.txt\", \"r\")#ファイルを開く\n",
    "lines = data.readlines() # 1行毎にファイル終端まで全て読む(改行文字も含まれる)\n",
    "list=[]#\n",
    "for line in lines:\n",
    "\n",
    "  l_odd = [i for i in line if not i  == \" \"]  #空白削除\n",
    "#条件を満たさない要素（条件式がFalseとなる要素）のみを選択して抽出\n",
    "#つまり、条件を満たす要素が削除された新たなリストが生成される。\n",
    "  l_odd2 = [i for i in l_odd if not i  == \"\\n\"]#改行文字削除\n",
    "  list.extend(l_odd2)#リストの連結 \n",
    "\n",
    "\n",
    "c = collections.Counter(list)#単語の出現個数をカウント\n",
    "print(\"各文字の出現回数\",c)#表示\n",
    "print(\"文字の異なり数\",len(c))#重複しない要素（一意な要素）の個数（種類）をカウント\n",
    "print(\"総数\",len(list))#リストのサイズの取得(len関数)\n",
    "\n",
    "data.close()# ファイルをクローズする"
   ]
  },
  {
   "cell_type": "code",
   "execution_count": null,
   "metadata": {
    "collapsed": true
   },
   "outputs": [],
   "source": []
  },
  {
   "cell_type": "code",
   "execution_count": null,
   "metadata": {
    "collapsed": true
   },
   "outputs": [],
   "source": []
  },
  {
   "cell_type": "code",
   "execution_count": null,
   "metadata": {
    "collapsed": true
   },
   "outputs": [],
   "source": []
  },
  {
   "cell_type": "code",
   "execution_count": null,
   "metadata": {
    "collapsed": true
   },
   "outputs": [],
   "source": []
  },
  {
   "cell_type": "code",
   "execution_count": 3,
   "metadata": {
    "collapsed": true
   },
   "outputs": [],
   "source": [
    " # readlines()はファイルの中身を最後まで読み込んだ後、1行を要素としたリストを返します\n",
    "    ##line.split() \n",
    "  #l =line \n",
    "  #c = collections.Counter(l_odd2)  \n",
    "  #print(c)"
   ]
  },
  {
   "cell_type": "code",
   "execution_count": 4,
   "metadata": {},
   "outputs": [
    {
     "name": "stdout",
     "output_type": "stream",
     "text": [
      "{'a': 165, 'b': 25, 'c': 36, 'd': 76, 'e': 195, 'f': 27, 'g': 26, 'h': 89, 'i': 83, 'j': 3, 'k': 14, 'l': 77, 'm': 34, 'n': 115, 'o': 107, 'p': 26, 'q': 0, 'r': 82, 's': 93, 't': 125, 'u': 31, 'v': 12, 'w': 40, 'x': 1, 'y': 24, 'z': 0}\n",
      "[('e', 195), ('a', 165), ('t', 125), ('n', 115), ('o', 107), ('s', 93), ('h', 89), ('i', 83), ('r', 82), ('l', 77), ('d', 76), ('w', 40), ('c', 36), ('m', 34), ('u', 31), ('f', 27), ('g', 26), ('p', 26), ('b', 25), ('y', 24), ('k', 14), ('v', 12), ('j', 3), ('x', 1), ('q', 0), ('z', 0)]\n"
     ]
    }
   ],
   "source": [
    "data = open(\"bbc.txt\", \"r\")\n",
    "# 行ごとにすべて読み込んでリストデータにする\n",
    "lines = data.readlines()\n",
    "\n",
    "sum=[0,0,0,0,0,0,0,0,0,0,0,0,0,0,0,0,0,0,0,0,0,0,0,0,0,0]\n",
    "keys=[\"a\",\"b\",\"c\",\"d\",\"e\",\"f\",\"g\",\"h\",\"i\",\"j\",\"k\",\"l\",\"m\",\"n\",\"o\",\"p\",\"q\",\"r\",\"s\",\"t\",\"u\",\"v\",\"w\",\"x\",\"y\",\"z\"]\n",
    "# 一行ずつ表示する\n",
    "for line in lines:\n",
    "  sum[0]+=line.count('a')  \n",
    "  sum[1]+=line.count('b')  \n",
    "  sum[2]+=line.count('c')  \n",
    "  sum[3]+=line.count('d') \n",
    "  sum[4]+=line.count('e') \n",
    "  sum[5]+=line.count('f')  \n",
    "  sum[6]+=line.count('g')  \n",
    "  sum[7]+=line.count('h')      \n",
    "  sum[8]+=line.count('i')  \n",
    "  sum[9]+=line.count('j')  \n",
    "  sum[10]+=line.count('k')  \n",
    "  sum[11]+=line.count('l')  \n",
    "  sum[12]+=line.count('m')  \n",
    "  sum[13]+=line.count('n')  \n",
    "  sum[14]+=line.count('o')  \n",
    "  sum[15]+=line.count('p')  \n",
    "  sum[16]+=line.count('q')  \n",
    "  sum[17]+=line.count('r')  \n",
    "  sum[18]+=line.count('s')  \n",
    "  sum[19]+=line.count('t')  \n",
    "  sum[20]+=line.count('u')  \n",
    "  sum[21]+=line.count('v')  \n",
    "  sum[22]+=line.count('w')  \n",
    "  sum[23]+=line.count('x')    \n",
    "  sum[24]+=line.count('y')   \n",
    "  sum[25]+=line.count('z')\n",
    "  #sum[26]+=line.count('')    \n",
    "    \n",
    "\n",
    "dic = dict(zip(keys, sum)) \n",
    "\n",
    "print(dic)#sort前\n",
    "dic2 = sorted(dic.items(), key=lambda x:x[1], reverse=True)\n",
    "print(dic2)#sort後\n",
    "\n",
    "data.close()# ファイルをクローズする"
   ]
  },
  {
   "cell_type": "code",
   "execution_count": 5,
   "metadata": {},
   "outputs": [
    {
     "name": "stdout",
     "output_type": "stream",
     "text": [
      "{'a': 169, 'b': 26, 'c': 39, 'd': 79, 'e': 195, 'f': 28, 'g': 26, 'h': 90, 'i': 92, 'j': 4, 'k': 14, 'l': 78, 'm': 35, 'n': 121, 'o': 110, 'p': 28, 'q': 0, 'r': 84, 's': 99, 't': 132, 'u': 31, 'v': 12, 'w': 44, 'x': 1, 'y': 24, 'z': 4}\n",
      "[('e', 195), ('a', 169), ('t', 132), ('n', 121), ('o', 110), ('s', 99), ('i', 92), ('h', 90), ('r', 84), ('d', 79), ('l', 78), ('w', 44), ('c', 39), ('m', 35), ('u', 31), ('f', 28), ('p', 28), ('b', 26), ('g', 26), ('y', 24), ('k', 14), ('v', 12), ('j', 4), ('z', 4), ('x', 1), ('q', 0)]\n"
     ]
    }
   ],
   "source": [
    "data = open(\"bbc.txt\", \"r\")\n",
    "# 行ごとにすべて読み込んでリストデータにする\n",
    "lines = data.readlines()\n",
    "\n",
    "sum=[0,0,0,0,0,0,0,0,0,0,0,0,0,0,0,0,0,0,0,0,0,0,0,0,0,0]\n",
    "keys=[\"a\",\"b\",\"c\",\"d\",\"e\",\"f\",\"g\",\"h\",\"i\",\"j\",\"k\",\"l\",\"m\",\"n\",\"o\",\"p\",\"q\",\"r\",\"s\",\"t\",\"u\",\"v\",\"w\",\"x\",\"y\",\"z\"]\n",
    "# 一行ずつ表示する\n",
    "for line in lines:\n",
    "  sum[0]+=line.count('a')  \n",
    "  sum[1]+=line.count('b')  \n",
    "  sum[2]+=line.count('c')  \n",
    "  sum[3]+=line.count('d') \n",
    "  sum[4]+=line.count('e') \n",
    "  sum[5]+=line.count('f')  \n",
    "  sum[6]+=line.count('g')  \n",
    "  sum[7]+=line.count('h')      \n",
    "  sum[8]+=line.count('i')  \n",
    "  sum[9]+=line.count('j')  \n",
    "  sum[10]+=line.count('k')  \n",
    "  sum[11]+=line.count('l')  \n",
    "  sum[12]+=line.count('m')  \n",
    "  sum[13]+=line.count('n')  \n",
    "  sum[14]+=line.count('o')  \n",
    "  sum[15]+=line.count('p')  \n",
    "  sum[16]+=line.count('q')  \n",
    "  sum[17]+=line.count('r')  \n",
    "  sum[18]+=line.count('s')  \n",
    "  sum[19]+=line.count('t')  \n",
    "  sum[20]+=line.count('u')  \n",
    "  sum[21]+=line.count('v')  \n",
    "  sum[22]+=line.count('w')  \n",
    "  sum[23]+=line.count('x')    \n",
    "  sum[24]+=line.count('y')   \n",
    "  sum[25]+=line.count('z')\n",
    "  sum[0]+=line.count('A')    \n",
    "  sum[1]+=line.count('B')  \n",
    "  sum[2]+=line.count('C')  \n",
    "  sum[3]+=line.count('D') \n",
    "  sum[4]+=line.count('E') \n",
    "  sum[5]+=line.count('F')  \n",
    "  sum[6]+=line.count('G')  \n",
    "  sum[7]+=line.count('H')      \n",
    "  sum[8]+=line.count('I')  \n",
    "  sum[9]+=line.count('J')  \n",
    "  sum[10]+=line.count('K')  \n",
    "  sum[11]+=line.count('L')  \n",
    "  sum[12]+=line.count('M')  \n",
    "  sum[13]+=line.count('N')  \n",
    "  sum[14]+=line.count('O')  \n",
    "  sum[15]+=line.count('P')  \n",
    "  sum[16]+=line.count('Q')  \n",
    "  sum[17]+=line.count('R')  \n",
    "  sum[18]+=line.count('S')  \n",
    "  sum[19]+=line.count('T')  \n",
    "  sum[20]+=line.count('U')  \n",
    "  sum[21]+=line.count('V')  \n",
    "  sum[22]+=line.count('W')  \n",
    "  sum[23]+=line.count('X')    \n",
    "  sum[24]+=line.count('Y')   \n",
    "  sum[25]+=line.count('Z')  \n",
    "\n",
    "dic = dict(zip(keys, sum)) \n",
    "\n",
    "print(dic)#sort前\n",
    "dic2 = sorted(dic.items(), key=lambda x:x[1], reverse=True)\n",
    "print(dic2)#sort後\n",
    "\n",
    "data.close()# ファイルをクローズする"
   ]
  },
  {
   "cell_type": "code",
   "execution_count": 6,
   "metadata": {},
   "outputs": [
    {
     "name": "stdout",
     "output_type": "stream",
     "text": [
      "165\n",
      "165\n",
      "[165, 25, 36, 76]\n",
      "[25, 36, 76, 165]\n",
      "[6, 0, 0, 4, 10, 2, 2, 6, 11, 2, 2, 3, 10, 2, 1, 8, 10, 1, 2, 5, 2, 1, 1, 1, 13, 3, 3, 4, 4, 0, 3, 1, 2, 1, 0, 2, 2, 0, 3, 2, 12, 2, 2, 3, 10, 1, 3, 4, 6, 1, 1, 1, 22, 2, 4, 7, 12, 4, 3, 6, 5, 0, 0, 7, 13, 2, 5, 3, 8, 0, 0, 5, 7, 1, 1, 4]\n"
     ]
    }
   ],
   "source": [
    " data = open(\"bbc.txt\", \"r\")\n",
    "# 行ごとにすべて読み込んでリストデータにする\n",
    "lines = data.readlines()\n",
    "\n",
    "sum_a=0\n",
    "sum_b=0\n",
    "sum=[0,0,0,0]\n",
    "sumt=[]\n",
    "# 一行ずつ表示する\n",
    "for line in lines:\n",
    " # print(line)\n",
    "  #print(line.count('a'))\n",
    "  sum_a+=line.count('a')\n",
    "  sum_b+=line.count('b')\n",
    "  sum[0]+=line.count('a')  \n",
    "  sum[1]+=line.count('b')  \n",
    "  sum[2]+=line.count('c')  \n",
    "  sum[3]+=line.count('d') \n",
    "  sumt.append(line.count('a'))  \n",
    "  sumt.append(line.count('b'))  \n",
    "  sumt.append(line.count('c'))  \n",
    "  sumt.append(line.count('d'))  \n",
    "    \n",
    "# ファイルをクローズする\n",
    "print(sum_a)\n",
    "print(sum[0])\n",
    "print(sum)\n",
    "sum.sort()\n",
    "print(sum)\n",
    "print(sumt)\n",
    "data.close()"
   ]
  }
 ],
 "metadata": {
  "kernelspec": {
   "display_name": "Python 3",
   "language": "python",
   "name": "python3"
  },
  "language_info": {
   "codemirror_mode": {
    "name": "ipython",
    "version": 3
   },
   "file_extension": ".py",
   "mimetype": "text/x-python",
   "name": "python",
   "nbconvert_exporter": "python",
   "pygments_lexer": "ipython3",
   "version": "3.6.1"
  }
 },
 "nbformat": 4,
 "nbformat_minor": 2
}
