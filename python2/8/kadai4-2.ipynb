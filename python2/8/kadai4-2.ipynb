{
 "cells": [
  {
   "cell_type": "code",
   "execution_count": 1,
   "metadata": {
    "collapsed": true
   },
   "outputs": [],
   "source": [
    "from collections import Counter\n",
    "import collections"
   ]
  },
  {
   "cell_type": "code",
   "execution_count": 2,
   "metadata": {},
   "outputs": [
    {
     "name": "stdout",
     "output_type": "stream",
     "text": [
      "各単語の出現回数 Counter({'the': 15, 'a': 12, 'in': 9, 'of': 9, 'to': 8, 'whales': 8, 'on': 7, 'and': 5, 'New': 4, 'The': 4, 'were': 4, 'by': 4, 'said': 4, 'that': 4, 'are': 4, 'Whale': 3, 'Zealand': 3, 'have': 3, 'died': 3, 'beach': 3, 'Island': 3, 'whale': 3, 'or': 3, 'not': 3, '145': 2, 'group': 2, 'pilot': 2, 'stranded': 2, 'Stewart': 2, 'half': 2, 'it': 2, 'In': 2, '12': 2, 'pygmy': 2, 'sperm': 2, 'beached': 2, 'over': 2, 'heart-breaking': 2, 'about': 2, 'remote': 2, 'Island.': 2, 'being': 2, 're-float': 2, 'remaining': 2, 'was': 2, 'most': 2, \"it's\": 2, 'be': 2, 'North': 2, 'stranding': 1, 'leaves': 1, 'dead': 1, 'A': 1, 'up': 1, 'after': 1, 'becoming': 1, 'Zealand.': 1, 'animals': 1, 'discovered': 1, 'walker': 1, 'late': 1, 'Saturday,': 1, 'strewn': 1, 'along': 1, 'Mason': 1, 'Bay.': 1, 'Authorities': 1, 'had': 1, 'already': 1, 'then,': 1, 'while': 1, 'other': 1, 'put': 1, 'down': 1, 'as': 1, 'would': 1, 'been': 1, 'too': 1, 'difficult': 1, 'save': 1, 'them.': 1, 'separate': 1, 'incidents,': 1, 'also': 1, 'weekend.': 1, \"'A\": 1, \"decision'\": 1, 'two': 1, 'pods': 1, '2km': 1, '(1.2': 1, 'miles)': 1, 'apart': 1, 'Rakiura': 1, 'off': 1, 'coast': 1, 'South': 1, \"'had\": 1, '115': 1, 'plastic': 1, \"cups'\": 1, 'stomach': 1, 'hunt': 1, 'turns': 1, 'sea': 1, 'red': 1, 'with': 1, 'blood': 1, 'Whales': 1, 'get': 1, 'stuck': 1, 'Icelandic': 1, 'fjord': 1, '\"Sadly,': 1, 'likelihood': 1, 'able': 1, 'successfully': 1, 'extremely': 1, 'low,\"': 1, 'Ren': 1, 'Leppens': 1, 'regional': 1, 'Department': 1, 'Conservation': 1, '(DOC)': 1, 'statement.': 1, '\"The': 1, 'location,': 1, 'lack': 1, 'nearby': 1, 'personnel': 1, \"whales'\": 1, 'deteriorating': 1, 'condition': 1, 'meant': 1, 'humane': 1, 'thing': 1, 'do': 1, 'euthanise.\"': 1, '\"However,': 1, 'always': 1, 'decision': 1, 'make.\"': 1, 'DOC': 1, 'statement': 1, 'strandings': 1, 'uncommon': 1, 'there': 1, '85': 1, 'incidents': 1, 'year.': 1, 'cases,': 1, 'though,': 1, 'just': 1, 'single': 1, 'animal': 1, 'is': 1, 'beached,': 1, 'whole': 1, 'pod.': 1, \"It's\": 1, 'fully': 1, 'known': 1, 'why': 1, 'dolphins': 1, 'strand,': 1, 'agency': 1, 'said.': 1, 'Possible': 1, 'reasons': 1, 'might': 1, 'sickness,': 1, 'navigational': 1, 'errors,': 1, 'falling': 1, 'tides': 1, 'chased': 1, 'predator.': 1, 'Also': 1, 'weekend,': 1, 'found': 1, 'at': 1, 'northern': 1, 'tip': 1, 'Four': 1, 'them': 1, 'died.': 1, 'There': 1, 'hopes': 1, 'eight': 1, 'can': 1, 'still': 1, 'rescued': 1, 'efforts': 1, 'under': 1, 'way': 1, 'local': 1, 'marine': 1, 'mammal': 1, 'charity': 1, 'Project': 1, 'Jonah.': 1, 'planned': 1, 'Tuesday': 1, 'has': 1, 'asked': 1, 'for': 1, 'volunteers': 1, 'help.': 1, 'On': 1, 'another': 1, 'beach,': 1, '15m': 1, '(50ft)': 1, 'Saturday': 1, 'morning.': 1})\n",
      "単語の異なり数 216\n",
      "総数 345\n"
     ]
    }
   ],
   "source": [
    "data= open(\"bbc.txt\", \"r\")#ファイルを開く\n",
    "lines = data.readline()#readline() – 1行毎に読み込み、その処理を繰り返す\n",
    "list=[]\n",
    "while lines:\n",
    "    l =lines.split()#split関数で文字列が空白で区切られたリストを得る\n",
    "    list.extend(l)#リストの連結\n",
    "    lines = data.readline()\n",
    "\n",
    "c = collections.Counter(list)#単語の出現個数をカウント\n",
    "print(\"各単語の出現回数\",c)#表示\n",
    "print(\"単語の異なり数\",len(c))#重複しない要素（一意な要素）の個数（種類）をカウント\n",
    "print(\"総数\",len(list))#リストのサイズの取得(len関数)\n",
    "data.close()# ファイルをクローズする  "
   ]
  },
  {
   "cell_type": "code",
   "execution_count": null,
   "metadata": {
    "collapsed": true
   },
   "outputs": [],
   "source": [
    "#c一語ずつ出せる？"
   ]
  }
 ],
 "metadata": {
  "kernelspec": {
   "display_name": "Python 3",
   "language": "python",
   "name": "python3"
  },
  "language_info": {
   "codemirror_mode": {
    "name": "ipython",
    "version": 3
   },
   "file_extension": ".py",
   "mimetype": "text/x-python",
   "name": "python",
   "nbconvert_exporter": "python",
   "pygments_lexer": "ipython3",
   "version": "3.6.1"
  }
 },
 "nbformat": 4,
 "nbformat_minor": 2
}
