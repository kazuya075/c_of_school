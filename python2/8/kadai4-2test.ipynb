{
 "cells": [
  {
   "cell_type": "code",
   "execution_count": 2,
   "metadata": {
    "collapsed": true
   },
   "outputs": [],
   "source": [
    "from collections import Counter\n",
    "import collections"
   ]
  },
  {
   "cell_type": "code",
   "execution_count": 24,
   "metadata": {},
   "outputs": [
    {
     "name": "stdout",
     "output_type": "stream",
     "text": [
      "Counter({' ': 7, 'a': 6, 'e': 6, 'n': 4, 'd': 4, 'l': 3, 's': 2, 'i': 2, 'W': 1, 'h': 1, 't': 1, 'r': 1, 'g': 1, 'N': 1, 'w': 1, 'Z': 1, 'v': 1, '1': 1, '4': 1, '5': 1, '\\n': 1})\n",
      "Counter({' ': 21, 'a': 10, 'e': 10, 'o': 7, 'n': 7, 't': 6, 'd': 6, 'r': 4, 'i': 4, 'l': 4, 'p': 3, 'w': 3, 'h': 3, 's': 3, 'g': 2, 'u': 2, 'f': 2, 'b': 2, 'c': 2, 'A': 1, '1': 1, '4': 1, '5': 1, 'v': 1, 'm': 1, 'S': 1, 'I': 1, 'N': 1, 'Z': 1, '.': 1, '\\n': 1})\n",
      "Counter({' ': 16, 'a': 11, 'e': 10, 'n': 5, 'r': 5, 'o': 5, 'l': 4, 's': 4, 't': 4, 'h': 3, 'w': 3, 'd': 3, 'y': 3, 'i': 2, 'c': 2, 'b': 2, 'T': 1, 'm': 1, 'v': 1, 'k': 1, 'S': 1, 'u': 1, ',': 1, 'g': 1, 'f': 1, 'M': 1, 'B': 1, '.': 1, '\\n': 1})\n",
      "Counter({' ': 26, 'e': 16, 't': 12, 'h': 12, 'a': 10, 'i': 8, 'd': 8, 'o': 7, 'l': 7, 's': 5, 'w': 5, 'u': 4, 'r': 4, 'f': 4, 'n': 3, 'y': 2, 'b': 2, 'v': 2, 'A': 1, ',': 1, 'p': 1, 'c': 1, 'm': 1, '.': 1, '\\n': 1})\n",
      "Counter({' ': 17, 'e': 15, 'a': 10, 'n': 7, 's': 5, 'd': 5, 'w': 4, 'h': 4, 'l': 4, 'p': 3, 'r': 3, 't': 3, 'i': 3, 'c': 2, 'y': 2, 'm': 2, 'o': 2, 'I': 1, ',': 1, '1': 1, '2': 1, 'g': 1, 'b': 1, 'N': 1, 'Z': 1, 'v': 1, 'k': 1, '.': 1, '\\n': 1})\n",
      "Counter({'e': 3, 'i': 3, \"'\": 2, ' ': 2, 'a': 2, 'r': 2, 'n': 2, 'A': 1, 'h': 1, 't': 1, '-': 1, 'b': 1, 'k': 1, 'g': 1, 'd': 1, 'c': 1, 's': 1, 'o': 1, '\\n': 1})\n",
      "Counter({' ': 27, 'a': 13, 'e': 12, 'o': 12, 't': 10, 'h': 6, 's': 6, 'r': 6, 'l': 5, 'n': 5, 'i': 4, 'w': 4, 'd': 4, 'p': 3, 'b': 3, 'c': 3, 'u': 3, 'm': 3, 'f': 3, '2': 2, 'k': 2, '.': 2, 'S': 2, 'I': 2, 'T': 1, '(': 1, '1': 1, ')': 1, 'R': 1, '\\n': 1})\n",
      "Counter({' ': 6, 'a': 4, 'h': 3, 's': 3, 'c': 3, 'l': 2, \"'\": 2, '1': 2, 'p': 2, 't': 2, 'i': 2, 'W': 1, 'e': 1, 'd': 1, '5': 1, 'u': 1, 'n': 1, 'o': 1, 'm': 1, '\\n': 1})\n",
      "Counter({' ': 6, 'h': 3, 'e': 3, 't': 3, 'a': 2, 'l': 2, 'u': 2, 'n': 2, 'r': 2, 's': 2, 'd': 2, 'o': 2, 'W': 1, 'w': 1, 'i': 1, 'b': 1, '\\n': 1})\n",
      "Counter({' ': 5, 'e': 3, 'c': 3, 'a': 2, 'l': 2, 's': 2, 't': 2, 'i': 2, 'n': 2, 'd': 2, 'W': 1, 'h': 1, 'g': 1, 'u': 1, 'k': 1, 'I': 1, 'f': 1, 'j': 1, 'o': 1, 'r': 1, '\\n': 1})\n",
      "Counter({' ': 27, 'e': 22, 'a': 12, 't': 12, 'l': 11, 'o': 11, 'n': 11, 'i': 9, 's': 9, 'r': 6, 'h': 5, 'f': 5, 'm': 4, 'd': 3, 'y': 3, 'g': 3, 'w': 3, 'p': 3, '\"': 2, ',': 2, 'b': 2, 'u': 2, 'c': 2, 'D': 2, 'C': 2, 'S': 1, 'k': 1, '-': 1, 'x': 1, 'R': 1, 'L': 1, 'v': 1, '(': 1, 'O': 1, ')': 1, '.': 1, '\\n': 1})\n",
      "Counter({' ': 21, 'e': 15, 't': 13, 'o': 12, 'n': 12, 'a': 10, 'h': 7, 'i': 7, 'r': 5, 's': 5, 'm': 4, 'l': 4, 'd': 4, 'c': 3, '\"': 2, 'w': 2, 'g': 2, 'u': 2, 'T': 1, ',': 1, 'k': 1, 'f': 1, 'b': 1, 'y': 1, 'p': 1, \"'\": 1, '.': 1, '\\n': 1})\n",
      "Counter({' ': 7, 'e': 6, 'a': 6, 'i': 4, 'o': 3, 'r': 3, 't': 3, 's': 3, '\"': 2, 'w': 2, 'k': 2, 'n': 2, 'H': 1, 'v': 1, ',': 1, \"'\": 1, 'l': 1, 'y': 1, 'h': 1, '-': 1, 'b': 1, 'g': 1, 'd': 1, 'c': 1, 'm': 1, '.': 1, '\\n': 1})\n",
      "Counter({' ': 39, 'a': 22, 't': 19, 'e': 17, 'n': 16, 's': 12, 'h': 10, 'i': 10, 'o': 9, 'd': 7, 'm': 5, 'l': 5, 'r': 5, 'u': 4, 'c': 4, 'w': 3, 'g': 3, ',': 3, 'b': 2, '.': 2, 'T': 1, 'D': 1, 'O': 1, 'C': 1, 'N': 1, 'Z': 1, '8': 1, '5': 1, 'y': 1, 'I': 1, \"'\": 1, 'j': 1, 'p': 1, '\\n': 1})\n",
      "Counter({' ': 26, 's': 15, 'n': 12, 'a': 12, 'e': 12, 'o': 10, 'i': 10, 'r': 9, 't': 8, 'l': 8, 'h': 6, 'd': 6, 'g': 5, 'y': 4, 'b': 4, 'w': 3, ',': 3, 'c': 3, 'f': 2, 'k': 2, 'p': 2, '.': 2, 'I': 1, \"'\": 1, 'u': 1, 'P': 1, 'm': 1, 'v': 1, '\\n': 1})\n",
      "Counter({' ': 21, 'e': 14, 'o': 8, 't': 8, 'r': 7, 'h': 7, 'd': 7, 'n': 6, 'a': 5, 's': 4, 'l': 3, 'w': 3, 'f': 3, 'v': 2, 'p': 2, 'y': 2, 'm': 2, 'u': 2, 'i': 2, '.': 2, 'A': 1, 'k': 1, ',': 1, '1': 1, '2': 1, 'g': 1, 'N': 1, 'I': 1, 'F': 1, '\\n': 1})\n",
      "Counter({' ': 22, 'e': 15, 'a': 13, 'r': 10, 't': 8, 'h': 7, 'n': 7, 'i': 6, 'o': 5, 'm': 5, 'c': 5, 'l': 5, 's': 4, 'd': 3, 'y': 3, 'g': 2, 'b': 2, 'u': 2, 'f': 2, 'T': 1, 'p': 1, 'w': 1, 'P': 1, 'j': 1, 'J': 1, '.': 1, '\\n': 1})\n",
      "Counter({' ': 17, 'e': 10, 'a': 8, 'o': 7, 's': 6, 't': 6, 'h': 5, 'd': 5, 'l': 5, 'n': 5, 'r': 4, 'u': 3, 'p': 3, 'T': 2, 'i': 2, 'f': 2, 'g': 1, '-': 1, 'w': 1, 'y': 1, 'k': 1, 'v': 1, '.': 1, '\\n': 1})\n",
      "Counter({' ': 13, 'a': 7, 'n': 6, 'e': 5, 'r': 5, 'o': 4, 't': 4, 'h': 4, 'd': 4, 'm': 3, 's': 2, 'l': 2, '5': 2, 'i': 2, 'O': 1, 'N': 1, 'I': 1, 'b': 1, 'c': 1, ',': 1, '1': 1, '(': 1, '0': 1, 'f': 1, ')': 1, 'p': 1, 'w': 1, 'S': 1, 'u': 1, 'y': 1, 'g': 1, '.': 1})\n"
     ]
    }
   ],
   "source": [
    "\n",
    "data= open(\"bbc.txt\", \"r\")#ファイルを開く\n",
    "lines = data.readlines() # 1行毎にファイル終端まで全て読む(改行文字も含まれる)\n",
    "\n",
    "for line in lines:\n",
    "  #line.split() \n",
    "  l =line    \n",
    "  c = collections.Counter(l)  \n",
    "  print(c)\n",
    "\n",
    "data.close()# ファイルをクローズする"
   ]
  },
  {
   "cell_type": "code",
   "execution_count": 17,
   "metadata": {},
   "outputs": [
    {
     "name": "stdout",
     "output_type": "stream",
     "text": [
      "['Whale stranding in New Zealand leaves 145 dead\\n', '\\n', 'A group of up to 145 pilot whales have died after becoming stranded on a beach on Stewart Island in New Zealand.\\n', '\\n', 'The animals were discovered by a walker late on Saturday, strewn along the beach of Mason Bay.\\n', '\\n', 'Authorities said half the whales had already died by then, while the other half were put down as it would have been too difficult to save them.\\n', '\\n', 'In separate incidents, 12 pygmy whales and a sperm whale also beached in New Zealand over the weekend.\\n', '\\n', \"'A heart-breaking decision'\\n\", 'The pilot whales were beached in two pods about 2km (1.2 miles) apart on a remote beach on Rakiura or Stewart Island off the coast of South Island.\\n', '\\n', \"Whale 'had 115 plastic cups' in stomach\\n\", 'Whale hunt turns sea red with blood\\n', 'Whales get stuck in Icelandic fjord\\n', '\"Sadly, the likelihood of being able to successfully re-float the remaining whales was extremely low,\" Ren Leppens of the regional Department of Conservation (DOC) said in a statement.\\n', '\\n', '\"The remote location, lack of nearby personnel and the whales\\' deteriorating condition meant the most humane thing to do was to euthanise.\"\\n', '\\n', '\"However, it\\'s always a heart-breaking decision to make.\"\\n', '\\n', \"The DOC said in a statement that whale strandings are not uncommon in New Zealand and that there are about 85 incidents a year. In most cases, though, it's just a single animal that is beached, not a whole pod.\\n\", '\\n', \"It's not fully known why whales or dolphins strand, the agency said. Possible reasons might be sickness, navigational errors, falling tides or being chased by a predator.\\n\", '\\n', 'Also over the weekend, 12 pygmy whales were found stranded at the northern tip of North Island. Four of them have died.\\n', '\\n', 'There are hopes that the remaining eight can still be rescued and efforts are under way by local marine mammal charity Project Jonah.\\n', '\\n', 'The group said it planned to re-float the whales on Tuesday and has asked for volunteers to help.\\n', '\\n', 'On another North Island beach, a 15m (50ft) sperm whale died on Saturday morning.']\n"
     ]
    }
   ],
   "source": [
    "\n",
    "data= open(\"bbc.txt\", \"r\")#ファイルを開く\n",
    "lines = data.readlines() # 1行毎にファイル終端まで全て読む(改行文字も含まれる)\n",
    "print(lines)\n",
    "\n",
    "#for line in lines:\n",
    "  #line.split() \n",
    "  #l =line    \n",
    "  #c = collections.Counter(l)  \n",
    "  #print(c)\n",
    "\n",
    "data.close()# ファイルをクローズする"
   ]
  },
  {
   "cell_type": "code",
   "execution_count": 7,
   "metadata": {},
   "outputs": [
    {
     "name": "stdout",
     "output_type": "stream",
     "text": [
      "Counter({'Whale': 1, 'stranding': 1, 'in': 1, 'New': 1, 'Zealand': 1, 'leaves': 1, '145': 1, 'dead': 1})\n",
      "Counter()\n",
      "Counter({'on': 2, 'A': 1, 'group': 1, 'of': 1, 'up': 1, 'to': 1, '145': 1, 'pilot': 1, 'whales': 1, 'have': 1, 'died': 1, 'after': 1, 'becoming': 1, 'stranded': 1, 'a': 1, 'beach': 1, 'Stewart': 1, 'Island': 1, 'in': 1, 'New': 1, 'Zealand.': 1})\n",
      "Counter()\n",
      "Counter({'The': 1, 'animals': 1, 'were': 1, 'discovered': 1, 'by': 1, 'a': 1, 'walker': 1, 'late': 1, 'on': 1, 'Saturday,': 1, 'strewn': 1, 'along': 1, 'the': 1, 'beach': 1, 'of': 1, 'Mason': 1, 'Bay.': 1})\n",
      "Counter()\n",
      "Counter({'half': 2, 'the': 2, 'Authorities': 1, 'said': 1, 'whales': 1, 'had': 1, 'already': 1, 'died': 1, 'by': 1, 'then,': 1, 'while': 1, 'other': 1, 'were': 1, 'put': 1, 'down': 1, 'as': 1, 'it': 1, 'would': 1, 'have': 1, 'been': 1, 'too': 1, 'difficult': 1, 'to': 1, 'save': 1, 'them.': 1})\n",
      "Counter()\n",
      "Counter({'In': 1, 'separate': 1, 'incidents,': 1, '12': 1, 'pygmy': 1, 'whales': 1, 'and': 1, 'a': 1, 'sperm': 1, 'whale': 1, 'also': 1, 'beached': 1, 'in': 1, 'New': 1, 'Zealand': 1, 'over': 1, 'the': 1, 'weekend.': 1})\n",
      "Counter()\n",
      "Counter({\"'A\": 1, 'heart-breaking': 1, \"decision'\": 1})\n",
      "Counter({'on': 2, 'The': 1, 'pilot': 1, 'whales': 1, 'were': 1, 'beached': 1, 'in': 1, 'two': 1, 'pods': 1, 'about': 1, '2km': 1, '(1.2': 1, 'miles)': 1, 'apart': 1, 'a': 1, 'remote': 1, 'beach': 1, 'Rakiura': 1, 'or': 1, 'Stewart': 1, 'Island': 1, 'off': 1, 'the': 1, 'coast': 1, 'of': 1, 'South': 1, 'Island.': 1})\n",
      "Counter()\n",
      "Counter({'Whale': 1, \"'had\": 1, '115': 1, 'plastic': 1, \"cups'\": 1, 'in': 1, 'stomach': 1})\n",
      "Counter({'Whale': 1, 'hunt': 1, 'turns': 1, 'sea': 1, 'red': 1, 'with': 1, 'blood': 1})\n",
      "Counter({'Whales': 1, 'get': 1, 'stuck': 1, 'in': 1, 'Icelandic': 1, 'fjord': 1})\n",
      "Counter({'the': 3, 'of': 3, '\"Sadly,': 1, 'likelihood': 1, 'being': 1, 'able': 1, 'to': 1, 'successfully': 1, 're-float': 1, 'remaining': 1, 'whales': 1, 'was': 1, 'extremely': 1, 'low,\"': 1, 'Ren': 1, 'Leppens': 1, 'regional': 1, 'Department': 1, 'Conservation': 1, '(DOC)': 1, 'said': 1, 'in': 1, 'a': 1, 'statement.': 1})\n",
      "Counter()\n",
      "Counter({'the': 2, 'to': 2, '\"The': 1, 'remote': 1, 'location,': 1, 'lack': 1, 'of': 1, 'nearby': 1, 'personnel': 1, 'and': 1, \"whales'\": 1, 'deteriorating': 1, 'condition': 1, 'meant': 1, 'most': 1, 'humane': 1, 'thing': 1, 'do': 1, 'was': 1, 'euthanise.\"': 1})\n",
      "Counter()\n",
      "Counter({'\"However,': 1, \"it's\": 1, 'always': 1, 'a': 1, 'heart-breaking': 1, 'decision': 1, 'to': 1, 'make.\"': 1})\n",
      "Counter()\n",
      "Counter({'a': 4, 'that': 3, 'in': 2, 'are': 2, 'not': 2, 'The': 1, 'DOC': 1, 'said': 1, 'statement': 1, 'whale': 1, 'strandings': 1, 'uncommon': 1, 'New': 1, 'Zealand': 1, 'and': 1, 'there': 1, 'about': 1, '85': 1, 'incidents': 1, 'year.': 1, 'In': 1, 'most': 1, 'cases,': 1, 'though,': 1, \"it's\": 1, 'just': 1, 'single': 1, 'animal': 1, 'is': 1, 'beached,': 1, 'whole': 1, 'pod.': 1})\n",
      "Counter()\n",
      "Counter({'or': 2, \"It's\": 1, 'not': 1, 'fully': 1, 'known': 1, 'why': 1, 'whales': 1, 'dolphins': 1, 'strand,': 1, 'the': 1, 'agency': 1, 'said.': 1, 'Possible': 1, 'reasons': 1, 'might': 1, 'be': 1, 'sickness,': 1, 'navigational': 1, 'errors,': 1, 'falling': 1, 'tides': 1, 'being': 1, 'chased': 1, 'by': 1, 'a': 1, 'predator.': 1})\n",
      "Counter()\n",
      "Counter({'the': 2, 'of': 2, 'Also': 1, 'over': 1, 'weekend,': 1, '12': 1, 'pygmy': 1, 'whales': 1, 'were': 1, 'found': 1, 'stranded': 1, 'at': 1, 'northern': 1, 'tip': 1, 'North': 1, 'Island.': 1, 'Four': 1, 'them': 1, 'have': 1, 'died.': 1})\n",
      "Counter()\n",
      "Counter({'are': 2, 'There': 1, 'hopes': 1, 'that': 1, 'the': 1, 'remaining': 1, 'eight': 1, 'can': 1, 'still': 1, 'be': 1, 'rescued': 1, 'and': 1, 'efforts': 1, 'under': 1, 'way': 1, 'by': 1, 'local': 1, 'marine': 1, 'mammal': 1, 'charity': 1, 'Project': 1, 'Jonah.': 1})\n",
      "Counter()\n",
      "Counter({'to': 2, 'The': 1, 'group': 1, 'said': 1, 'it': 1, 'planned': 1, 're-float': 1, 'the': 1, 'whales': 1, 'on': 1, 'Tuesday': 1, 'and': 1, 'has': 1, 'asked': 1, 'for': 1, 'volunteers': 1, 'help.': 1})\n",
      "Counter()\n",
      "Counter({'On': 1, 'another': 1, 'North': 1, 'Island': 1, 'beach,': 1, 'a': 1, '15m': 1, '(50ft)': 1, 'sperm': 1, 'whale': 1, 'died': 1, 'on': 1, 'Saturday': 1, 'morning.': 1})\n"
     ]
    }
   ],
   "source": [
    "\n",
    "data= open(\"bbc.txt\", \"r\")#ファイルを開く\n",
    "lines = data.readlines() # 1行毎にファイル終端まで全て読む(改行文字も含まれる)\n",
    "\n",
    "for line in lines:\n",
    "  l =line.split() \n",
    "  c = collections.Counter(l)  \n",
    "  print(c)\n",
    "\n",
    "data.close()# ファイルをクローズする"
   ]
  },
  {
   "cell_type": "code",
   "execution_count": 8,
   "metadata": {},
   "outputs": [
    {
     "name": "stdout",
     "output_type": "stream",
     "text": [
      "Counter({'\\n': 14, 'Whale stranding in New Zealand leaves 145 dead\\n': 1, 'A group of up to 145 pilot whales have died after becoming stranded on a beach on Stewart Island in New Zealand.\\n': 1, 'The animals were discovered by a walker late on Saturday, strewn along the beach of Mason Bay.\\n': 1, 'Authorities said half the whales had already died by then, while the other half were put down as it would have been too difficult to save them.\\n': 1, 'In separate incidents, 12 pygmy whales and a sperm whale also beached in New Zealand over the weekend.\\n': 1, \"'A heart-breaking decision'\\n\": 1, 'The pilot whales were beached in two pods about 2km (1.2 miles) apart on a remote beach on Rakiura or Stewart Island off the coast of South Island.\\n': 1, \"Whale 'had 115 plastic cups' in stomach\\n\": 1, 'Whale hunt turns sea red with blood\\n': 1, 'Whales get stuck in Icelandic fjord\\n': 1, '\"Sadly, the likelihood of being able to successfully re-float the remaining whales was extremely low,\" Ren Leppens of the regional Department of Conservation (DOC) said in a statement.\\n': 1, '\"The remote location, lack of nearby personnel and the whales\\' deteriorating condition meant the most humane thing to do was to euthanise.\"\\n': 1, '\"However, it\\'s always a heart-breaking decision to make.\"\\n': 1, \"The DOC said in a statement that whale strandings are not uncommon in New Zealand and that there are about 85 incidents a year. In most cases, though, it's just a single animal that is beached, not a whole pod.\\n\": 1, \"It's not fully known why whales or dolphins strand, the agency said. Possible reasons might be sickness, navigational errors, falling tides or being chased by a predator.\\n\": 1, 'Also over the weekend, 12 pygmy whales were found stranded at the northern tip of North Island. Four of them have died.\\n': 1, 'There are hopes that the remaining eight can still be rescued and efforts are under way by local marine mammal charity Project Jonah.\\n': 1, 'The group said it planned to re-float the whales on Tuesday and has asked for volunteers to help.\\n': 1, 'On another North Island beach, a 15m (50ft) sperm whale died on Saturday morning.': 1})\n",
      "test ['Whale stranding in New Zealand leaves 145 dead\\n', '\\n', 'A group of up to 145 pilot whales have died after becoming stranded on a beach on Stewart Island in New Zealand.\\n', '\\n', 'The animals were discovered by a walker late on Saturday, strewn along the beach of Mason Bay.\\n', '\\n', 'Authorities said half the whales had already died by then, while the other half were put down as it would have been too difficult to save them.\\n', '\\n', 'In separate incidents, 12 pygmy whales and a sperm whale also beached in New Zealand over the weekend.\\n', '\\n', \"'A heart-breaking decision'\\n\", 'The pilot whales were beached in two pods about 2km (1.2 miles) apart on a remote beach on Rakiura or Stewart Island off the coast of South Island.\\n', '\\n', \"Whale 'had 115 plastic cups' in stomach\\n\", 'Whale hunt turns sea red with blood\\n', 'Whales get stuck in Icelandic fjord\\n', '\"Sadly, the likelihood of being able to successfully re-float the remaining whales was extremely low,\" Ren Leppens of the regional Department of Conservation (DOC) said in a statement.\\n', '\\n', '\"The remote location, lack of nearby personnel and the whales\\' deteriorating condition meant the most humane thing to do was to euthanise.\"\\n', '\\n', '\"However, it\\'s always a heart-breaking decision to make.\"\\n', '\\n', \"The DOC said in a statement that whale strandings are not uncommon in New Zealand and that there are about 85 incidents a year. In most cases, though, it's just a single animal that is beached, not a whole pod.\\n\", '\\n', \"It's not fully known why whales or dolphins strand, the agency said. Possible reasons might be sickness, navigational errors, falling tides or being chased by a predator.\\n\", '\\n', 'Also over the weekend, 12 pygmy whales were found stranded at the northern tip of North Island. Four of them have died.\\n', '\\n', 'There are hopes that the remaining eight can still be rescued and efforts are under way by local marine mammal charity Project Jonah.\\n', '\\n', 'The group said it planned to re-float the whales on Tuesday and has asked for volunteers to help.\\n', '\\n', 'On another North Island beach, a 15m (50ft) sperm whale died on Saturday morning.']\n"
     ]
    }
   ],
   "source": [
    "\n",
    "data= open(\"bbc.txt\", \"r\")#ファイルを開く\n",
    "lines = data.readlines() # 1行毎にファイル終端まで全て読む(改行文字も含まれる)\n",
    "\n",
    "while lines:\n",
    "   # l =lines.split() \n",
    "    c = collections.Counter(lines)\n",
    "    # l =lines.split() \n",
    "   # c = collections.Counter(l)\n",
    "    print(c)\n",
    "    print(\"test\",lines)\n",
    "    lines = data.readline()\n",
    "    \n",
    "    \n",
    "\n",
    "    \n",
    "data.close()# ファイルをクローズする    "
   ]
  },
  {
   "cell_type": "code",
   "execution_count": 18,
   "metadata": {},
   "outputs": [
    {
     "name": "stdout",
     "output_type": "stream",
     "text": [
      "test ['Whale', 'stranding', 'in', 'New', 'Zealand', 'leaves', '145', 'dead']\n",
      "test ['A', 'group', 'of', 'up', 'to', '145', 'pilot', 'whales', 'have', 'died', 'after', 'becoming', 'stranded', 'on', 'a', 'beach', 'on', 'Stewart', 'Island', 'in', 'New', 'Zealand.']\n",
      "test ['The', 'animals', 'were', 'discovered', 'by', 'a', 'walker', 'late', 'on', 'Saturday,', 'strewn', 'along', 'the', 'beach', 'of', 'Mason', 'Bay.']\n",
      "test ['Authorities', 'said', 'half', 'the', 'whales', 'had', 'already', 'died', 'by', 'then,', 'while', 'the', 'other', 'half', 'were', 'put', 'down', 'as', 'it', 'would', 'have', 'been', 'too', 'difficult', 'to', 'save', 'them.']\n",
      "test ['In', 'separate', 'incidents,', '12', 'pygmy', 'whales', 'and', 'a', 'sperm', 'whale', 'also', 'beached', 'in', 'New', 'Zealand', 'over', 'the', 'weekend.']\n",
      "test [\"'A\", 'heart-breaking', \"decision'\"]\n",
      "test ['The', 'pilot', 'whales', 'were', 'beached', 'in', 'two', 'pods', 'about', '2km', '(1.2', 'miles)', 'apart', 'on', 'a', 'remote', 'beach', 'on', 'Rakiura', 'or', 'Stewart', 'Island', 'off', 'the', 'coast', 'of', 'South', 'Island.']\n",
      "test ['Whale', \"'had\", '115', 'plastic', \"cups'\", 'in', 'stomach']\n",
      "test ['Whale', 'hunt', 'turns', 'sea', 'red', 'with', 'blood']\n",
      "test ['Whales', 'get', 'stuck', 'in', 'Icelandic', 'fjord']\n",
      "test ['\"Sadly,', 'the', 'likelihood', 'of', 'being', 'able', 'to', 'successfully', 're-float', 'the', 'remaining', 'whales', 'was', 'extremely', 'low,\"', 'Ren', 'Leppens', 'of', 'the', 'regional', 'Department', 'of', 'Conservation', '(DOC)', 'said', 'in', 'a', 'statement.']\n",
      "test ['\"The', 'remote', 'location,', 'lack', 'of', 'nearby', 'personnel', 'and', 'the', \"whales'\", 'deteriorating', 'condition', 'meant', 'the', 'most', 'humane', 'thing', 'to', 'do', 'was', 'to', 'euthanise.\"']\n",
      "test ['\"However,', \"it's\", 'always', 'a', 'heart-breaking', 'decision', 'to', 'make.\"']\n",
      "test ['The', 'DOC', 'said', 'in', 'a', 'statement', 'that', 'whale', 'strandings', 'are', 'not', 'uncommon', 'in', 'New', 'Zealand', 'and', 'that', 'there', 'are', 'about', '85', 'incidents', 'a', 'year.', 'In', 'most', 'cases,', 'though,', \"it's\", 'just', 'a', 'single', 'animal', 'that', 'is', 'beached,', 'not', 'a', 'whole', 'pod.']\n",
      "test [\"It's\", 'not', 'fully', 'known', 'why', 'whales', 'or', 'dolphins', 'strand,', 'the', 'agency', 'said.', 'Possible', 'reasons', 'might', 'be', 'sickness,', 'navigational', 'errors,', 'falling', 'tides', 'or', 'being', 'chased', 'by', 'a', 'predator.']\n",
      "test ['Also', 'over', 'the', 'weekend,', '12', 'pygmy', 'whales', 'were', 'found', 'stranded', 'at', 'the', 'northern', 'tip', 'of', 'North', 'Island.', 'Four', 'of', 'them', 'have', 'died.']\n",
      "test ['There', 'are', 'hopes', 'that', 'the', 'remaining', 'eight', 'can', 'still', 'be', 'rescued', 'and', 'efforts', 'are', 'under', 'way', 'by', 'local', 'marine', 'mammal', 'charity', 'Project', 'Jonah.']\n",
      "test ['The', 'group', 'said', 'it', 'planned', 'to', 're-float', 'the', 'whales', 'on', 'Tuesday', 'and', 'has', 'asked', 'for', 'volunteers', 'to', 'help.']\n",
      "test ['On', 'another', 'North', 'Island', 'beach,', 'a', '15m', '(50ft)', 'sperm', 'whale', 'died', 'on', 'Saturday', 'morning.']\n"
     ]
    }
   ],
   "source": [
    "data= open(\"bbc.txt\", \"r\")#ファイルを開く\n",
    "lines = data.readline() # 1行毎にファイル終端まで全て読む(改行文字も含まれる)\n",
    "\n",
    "while lines:\n",
    "    l =lines.split() \n",
    "    #l_odd = [i for i in l if not i % 2 == 0]\n",
    "    #print(\"test\",l_odd)\n",
    "    print(\"test\",l)\n",
    "    #c = collections.Counter(lines)\n",
    "   # print(c)\n",
    "    #print(\"test\",lines)\n",
    "    lines = data.readline()\n",
    "    \n",
    "    \n",
    "\n",
    "    \n",
    "data.close()# ファイルをクローズする  "
   ]
  },
  {
   "cell_type": "code",
   "execution_count": 22,
   "metadata": {},
   "outputs": [
    {
     "name": "stdout",
     "output_type": "stream",
     "text": [
      "['Whale', 'stranding', 'in', 'New', 'Zealand', 'leaves', '145', 'dead', 'A', 'group', 'of', 'up', 'to', '145', 'pilot', 'whales', 'have', 'died', 'after', 'becoming', 'stranded', 'on', 'a', 'beach', 'on', 'Stewart', 'Island', 'in', 'New', 'Zealand.', 'The', 'animals', 'were', 'discovered', 'by', 'a', 'walker', 'late', 'on', 'Saturday,', 'strewn', 'along', 'the', 'beach', 'of', 'Mason', 'Bay.', 'Authorities', 'said', 'half', 'the', 'whales', 'had', 'already', 'died', 'by', 'then,', 'while', 'the', 'other', 'half', 'were', 'put', 'down', 'as', 'it', 'would', 'have', 'been', 'too', 'difficult', 'to', 'save', 'them.', 'In', 'separate', 'incidents,', '12', 'pygmy', 'whales', 'and', 'a', 'sperm', 'whale', 'also', 'beached', 'in', 'New', 'Zealand', 'over', 'the', 'weekend.', \"'A\", 'heart-breaking', \"decision'\", 'The', 'pilot', 'whales', 'were', 'beached', 'in', 'two', 'pods', 'about', '2km', '(1.2', 'miles)', 'apart', 'on', 'a', 'remote', 'beach', 'on', 'Rakiura', 'or', 'Stewart', 'Island', 'off', 'the', 'coast', 'of', 'South', 'Island.', 'Whale', \"'had\", '115', 'plastic', \"cups'\", 'in', 'stomach', 'Whale', 'hunt', 'turns', 'sea', 'red', 'with', 'blood', 'Whales', 'get', 'stuck', 'in', 'Icelandic', 'fjord', '\"Sadly,', 'the', 'likelihood', 'of', 'being', 'able', 'to', 'successfully', 're-float', 'the', 'remaining', 'whales', 'was', 'extremely', 'low,\"', 'Ren', 'Leppens', 'of', 'the', 'regional', 'Department', 'of', 'Conservation', '(DOC)', 'said', 'in', 'a', 'statement.', '\"The', 'remote', 'location,', 'lack', 'of', 'nearby', 'personnel', 'and', 'the', \"whales'\", 'deteriorating', 'condition', 'meant', 'the', 'most', 'humane', 'thing', 'to', 'do', 'was', 'to', 'euthanise.\"', '\"However,', \"it's\", 'always', 'a', 'heart-breaking', 'decision', 'to', 'make.\"', 'The', 'DOC', 'said', 'in', 'a', 'statement', 'that', 'whale', 'strandings', 'are', 'not', 'uncommon', 'in', 'New', 'Zealand', 'and', 'that', 'there', 'are', 'about', '85', 'incidents', 'a', 'year.', 'In', 'most', 'cases,', 'though,', \"it's\", 'just', 'a', 'single', 'animal', 'that', 'is', 'beached,', 'not', 'a', 'whole', 'pod.', \"It's\", 'not', 'fully', 'known', 'why', 'whales', 'or', 'dolphins', 'strand,', 'the', 'agency', 'said.', 'Possible', 'reasons', 'might', 'be', 'sickness,', 'navigational', 'errors,', 'falling', 'tides', 'or', 'being', 'chased', 'by', 'a', 'predator.', 'Also', 'over', 'the', 'weekend,', '12', 'pygmy', 'whales', 'were', 'found', 'stranded', 'at', 'the', 'northern', 'tip', 'of', 'North', 'Island.', 'Four', 'of', 'them', 'have', 'died.', 'There', 'are', 'hopes', 'that', 'the', 'remaining', 'eight', 'can', 'still', 'be', 'rescued', 'and', 'efforts', 'are', 'under', 'way', 'by', 'local', 'marine', 'mammal', 'charity', 'Project', 'Jonah.', 'The', 'group', 'said', 'it', 'planned', 'to', 're-float', 'the', 'whales', 'on', 'Tuesday', 'and', 'has', 'asked', 'for', 'volunteers', 'to', 'help.', 'On', 'another', 'North', 'Island', 'beach,', 'a', '15m', '(50ft)', 'sperm', 'whale', 'died', 'on', 'Saturday', 'morning.']\n",
      "Counter({'the': 15, 'a': 12, 'in': 9, 'of': 9, 'to': 8, 'whales': 8, 'on': 7, 'and': 5, 'New': 4, 'The': 4, 'were': 4, 'by': 4, 'said': 4, 'that': 4, 'are': 4, 'Whale': 3, 'Zealand': 3, 'have': 3, 'died': 3, 'beach': 3, 'Island': 3, 'whale': 3, 'or': 3, 'not': 3, '145': 2, 'group': 2, 'pilot': 2, 'stranded': 2, 'Stewart': 2, 'half': 2, 'it': 2, 'In': 2, '12': 2, 'pygmy': 2, 'sperm': 2, 'beached': 2, 'over': 2, 'heart-breaking': 2, 'about': 2, 'remote': 2, 'Island.': 2, 'being': 2, 're-float': 2, 'remaining': 2, 'was': 2, 'most': 2, \"it's\": 2, 'be': 2, 'North': 2, 'stranding': 1, 'leaves': 1, 'dead': 1, 'A': 1, 'up': 1, 'after': 1, 'becoming': 1, 'Zealand.': 1, 'animals': 1, 'discovered': 1, 'walker': 1, 'late': 1, 'Saturday,': 1, 'strewn': 1, 'along': 1, 'Mason': 1, 'Bay.': 1, 'Authorities': 1, 'had': 1, 'already': 1, 'then,': 1, 'while': 1, 'other': 1, 'put': 1, 'down': 1, 'as': 1, 'would': 1, 'been': 1, 'too': 1, 'difficult': 1, 'save': 1, 'them.': 1, 'separate': 1, 'incidents,': 1, 'also': 1, 'weekend.': 1, \"'A\": 1, \"decision'\": 1, 'two': 1, 'pods': 1, '2km': 1, '(1.2': 1, 'miles)': 1, 'apart': 1, 'Rakiura': 1, 'off': 1, 'coast': 1, 'South': 1, \"'had\": 1, '115': 1, 'plastic': 1, \"cups'\": 1, 'stomach': 1, 'hunt': 1, 'turns': 1, 'sea': 1, 'red': 1, 'with': 1, 'blood': 1, 'Whales': 1, 'get': 1, 'stuck': 1, 'Icelandic': 1, 'fjord': 1, '\"Sadly,': 1, 'likelihood': 1, 'able': 1, 'successfully': 1, 'extremely': 1, 'low,\"': 1, 'Ren': 1, 'Leppens': 1, 'regional': 1, 'Department': 1, 'Conservation': 1, '(DOC)': 1, 'statement.': 1, '\"The': 1, 'location,': 1, 'lack': 1, 'nearby': 1, 'personnel': 1, \"whales'\": 1, 'deteriorating': 1, 'condition': 1, 'meant': 1, 'humane': 1, 'thing': 1, 'do': 1, 'euthanise.\"': 1, '\"However,': 1, 'always': 1, 'decision': 1, 'make.\"': 1, 'DOC': 1, 'statement': 1, 'strandings': 1, 'uncommon': 1, 'there': 1, '85': 1, 'incidents': 1, 'year.': 1, 'cases,': 1, 'though,': 1, 'just': 1, 'single': 1, 'animal': 1, 'is': 1, 'beached,': 1, 'whole': 1, 'pod.': 1, \"It's\": 1, 'fully': 1, 'known': 1, 'why': 1, 'dolphins': 1, 'strand,': 1, 'agency': 1, 'said.': 1, 'Possible': 1, 'reasons': 1, 'might': 1, 'sickness,': 1, 'navigational': 1, 'errors,': 1, 'falling': 1, 'tides': 1, 'chased': 1, 'predator.': 1, 'Also': 1, 'weekend,': 1, 'found': 1, 'at': 1, 'northern': 1, 'tip': 1, 'Four': 1, 'them': 1, 'died.': 1, 'There': 1, 'hopes': 1, 'eight': 1, 'can': 1, 'still': 1, 'rescued': 1, 'efforts': 1, 'under': 1, 'way': 1, 'local': 1, 'marine': 1, 'mammal': 1, 'charity': 1, 'Project': 1, 'Jonah.': 1, 'planned': 1, 'Tuesday': 1, 'has': 1, 'asked': 1, 'for': 1, 'volunteers': 1, 'help.': 1, 'On': 1, 'another': 1, 'beach,': 1, '15m': 1, '(50ft)': 1, 'Saturday': 1, 'morning.': 1})\n"
     ]
    }
   ],
   "source": [
    "data= open(\"bbc.txt\", \"r\")#ファイルを開く\n",
    "lines = data.readline()#readline() – 1行毎に読み込み、その処理を繰り返す\n",
    "list=[]\n",
    "while lines:\n",
    "    l =lines.split()#split関数で文字列が空白で区切られたリストを得る\n",
    "    list.extend(l)#リストの連結\n",
    "    lines = data.readline()\n",
    "\n",
    "c = collections.Counter(list)#単語の出現個数をカウント\n",
    "print(c)#表示\n",
    "data.close()# ファイルをクローズする  "
   ]
  },
  {
   "cell_type": "code",
   "execution_count": 23,
   "metadata": {},
   "outputs": [
    {
     "name": "stdout",
     "output_type": "stream",
     "text": [
      "Whale stranding in New Zealand leaves 145 dead\n",
      "\n",
      "A group of up to 145 pilot whales have died after becoming stranded on a beach on Stewart Island in New Zealand.\n",
      "\n",
      "The animals were discovered by a walker late on Saturday, strewn along the beach of Mason Bay.\n",
      "\n",
      "Authorities said half the whales had already died by then, while the other half were put down as it would have been too difficult to save them.\n",
      "\n",
      "In separate incidents, 12 pygmy whales and a sperm whale also beached in New Zealand over the weekend.\n",
      "\n",
      "'A heart-breaking decision'\n",
      "\n",
      "The pilot whales were beached in two pods about 2km (1.2 miles) apart on a remote beach on Rakiura or Stewart Island off the coast of South Island.\n",
      "\n",
      "Whale 'had 115 plastic cups' in stomach\n",
      "\n",
      "Whale hunt turns sea red with blood\n",
      "\n",
      "Whales get stuck in Icelandic fjord\n",
      "\n",
      "\"Sadly, the likelihood of being able to successfully re-float the remaining whales was extremely low,\" Ren Leppens of the regional Department of Conservation (DOC) said in a statement.\n",
      "\n",
      "\"The remote location, lack of nearby personnel and the whales' deteriorating condition meant the most humane thing to do was to euthanise.\"\n",
      "\n",
      "\"However, it's always a heart-breaking decision to make.\"\n",
      "\n",
      "The DOC said in a statement that whale strandings are not uncommon in New Zealand and that there are about 85 incidents a year. In most cases, though, it's just a single animal that is beached, not a whole pod.\n",
      "\n",
      "It's not fully known why whales or dolphins strand, the agency said. Possible reasons might be sickness, navigational errors, falling tides or being chased by a predator.\n",
      "\n",
      "Also over the weekend, 12 pygmy whales were found stranded at the northern tip of North Island. Four of them have died.\n",
      "\n",
      "There are hopes that the remaining eight can still be rescued and efforts are under way by local marine mammal charity Project Jonah.\n",
      "\n",
      "The group said it planned to re-float the whales on Tuesday and has asked for volunteers to help.\n",
      "\n",
      "On another North Island beach, a 15m (50ft) sperm whale died on Saturday morning.\n"
     ]
    }
   ],
   "source": [
    "data= open(\"bbc.txt\", \"r\")#ファイルを開く\n",
    "lines = data.readline()#readline() – 1行毎に読み込み、その処理を繰り返す\n",
    "\n",
    "while lines:\n",
    "    print(lines)\n",
    "    lines = data.readline()\n",
    "\n",
    "data.close()# ファイルをクローズする  "
   ]
  },
  {
   "cell_type": "code",
   "execution_count": 11,
   "metadata": {},
   "outputs": [
    {
     "name": "stdout",
     "output_type": "stream",
     "text": [
      "one two     three\n",
      "four\tfive\n",
      "['one', 'two', 'three', 'four', 'five']\n"
     ]
    }
   ],
   "source": [
    "s_blank = 'one two     three\\nfour\\tfive'\n",
    "print(s_blank)\n",
    "# one two     three\n",
    "# four  five\n",
    "\n",
    "print(s_blank.split())"
   ]
  },
  {
   "cell_type": "code",
   "execution_count": null,
   "metadata": {
    "collapsed": true
   },
   "outputs": [],
   "source": [
    "    #print(\"test\",l)\n",
    "    \n",
    "       \n",
    "#print (list) \n",
    "    "
   ]
  },
  {
   "cell_type": "code",
   "execution_count": 5,
   "metadata": {},
   "outputs": [
    {
     "name": "stdout",
     "output_type": "stream",
     "text": [
      "Counter({'e': 195, 'a': 165, 't': 125, 'n': 115, 'o': 107, 's': 93, 'h': 89, 'i': 83, 'r': 82, 'l': 77, 'd': 76, 'w': 40, 'c': 36, 'm': 34, 'u': 31, 'f': 27, 'g': 26, 'p': 26, 'b': 25, 'y': 24, '.': 18, ',': 15, 'k': 14, 'v': 12, 'I': 9, '1': 8, \"'\": 8, 'T': 7, 'N': 6, '5': 6, 'S': 6, '\"': 6, 'W': 4, 'Z': 4, 'A': 4, '2': 4, '-': 4, '(': 3, ')': 3, 'j': 3, 'D': 3, 'C': 3, 'O': 3, '4': 2, 'R': 2, 'P': 2, 'M': 1, 'B': 1, 'x': 1, 'L': 1, 'H': 1, '8': 1, 'F': 1, 'J': 1, '0': 1})\n"
     ]
    }
   ],
   "source": [
    "\n",
    "data= open(\"bbc.txt\", \"r\")#ファイルを開く\n",
    "lines = data.readlines() # 1行毎にファイル終端まで全て読む(改行文字も含まれる)\n",
    "list=[]\n",
    "for line in lines:\n",
    "  #line.split() \n",
    "  l =line \n",
    "  l_odd = [i for i in l if not i  == \" \"]  \n",
    "  l_odd2 = [i for i in l_odd if not i  == \"\\n\"]\n",
    "  list.extend(l_odd2)#リストの連結 \n",
    "  #c = collections.Counter(l_odd2)  \n",
    "  #print(c)\n",
    "\n",
    "c = collections.Counter(list)#単語の出現個数をカウント\n",
    "print(c)#表示\n",
    "data.close()# ファイルをクローズする"
   ]
  }
 ],
 "metadata": {
  "kernelspec": {
   "display_name": "Python 3",
   "language": "python",
   "name": "python3"
  },
  "language_info": {
   "codemirror_mode": {
    "name": "ipython",
    "version": 3
   },
   "file_extension": ".py",
   "mimetype": "text/x-python",
   "name": "python",
   "nbconvert_exporter": "python",
   "pygments_lexer": "ipython3",
   "version": "3.6.1"
  }
 },
 "nbformat": 4,
 "nbformat_minor": 2
}
