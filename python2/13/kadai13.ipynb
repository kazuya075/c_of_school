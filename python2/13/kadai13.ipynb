{
 "cells": [
  {
   "cell_type": "code",
   "execution_count": 1,
   "metadata": {},
   "outputs": [
    {
     "name": "stderr",
     "output_type": "stream",
     "text": [
      "C:\\Users\\fmv\\Anaconda3\\lib\\site-packages\\sklearn\\cross_validation.py:44: DeprecationWarning: This module was deprecated in version 0.18 in favor of the model_selection module into which all the refactored classes and functions are moved. Also note that the interface of the new CV iterators are different from that of this module. This module will be removed in 0.20.\n",
      "  \"This module will be removed in 0.20.\", DeprecationWarning)\n"
     ]
    }
   ],
   "source": [
    "from nltk.tokenize import word_tokenize\n",
    "from collections import Counter\n",
    "import collections\n",
    "import sys\n",
    "import MeCab\n",
    "import re\n",
    "import numpy as np\n",
    "from sklearn.feature_extraction.text import CountVectorizer\n",
    "from sklearn.feature_extraction.text import TfidfTransformer\n",
    "from sklearn import preprocessing\n",
    "from sklearn.svm import SVC, LinearSVC\n",
    "from sklearn.metrics import accuracy_score, confusion_matrix, classification_report\n",
    "import pandas as pd\n",
    "from sklearn.model_selection import train_test_split\n",
    "from sklearn.preprocessing import StandardScaler \n",
    "from sklearn import cross_validation\n",
    "from sklearn import datasets\n",
    "from sklearn import svm\n",
    "from sklearn.cross_validation import KFold\n",
    "import matplotlib.pyplot as plt\n",
    "from mlxtend.plotting import plot_decision_regions\n",
    "from sklearn.model_selection import GridSearchCV\n",
    "from sklearn.cluster import KMeans\n",
    "from sklearn.decomposition import PCA\n"
   ]
  },
  {
   "cell_type": "code",
   "execution_count": 2,
   "metadata": {
    "collapsed": true
   },
   "outputs": [],
   "source": [
    "#元の文書から名詞限定の文書を用意する\n",
    "mecab = MeCab.Tagger()\n",
    "def tokenize(text):\n",
    "    with open(text, 'r')as f:\n",
    "        textdata=f.read()#一括で詠み込む  \n",
    "        textdata = re.split('-{5,}', textdata)[0]+ re.split('-{5,}', textdata)[2]\n",
    "        textdata = re.split('底本', textdata)[0]\n",
    "        #詠み込んだ文章を底本部分で分割し本文のみを取得\n",
    "        textdata = re.split('［＃ここから', textdata)[0]\n",
    "        #詠み込んだ文章を［＃ここから　部分で分割し本文のみを取得\n",
    "        lines = textdata.split(\"\\r\\n\")#改行で分ける\n",
    "        \n",
    "        results = []\n",
    "        for line in lines:\n",
    "            # 学習に使わない表現の削除処理\n",
    "            s = line\n",
    "            s = re.sub('｜', '',s)\n",
    "            s = re.sub('《.+?》', '', s)# 《》を消す\n",
    "            s = re.sub('［.+?］', '', s)#[]\n",
    "            s = re.sub('（.+?）', '', s)#()\n",
    "\n",
    "            token_list=[]\n",
    "            node = mecab.parseToNode(s)#parseToNode()を使うと形態素の詳細情報\n",
    "    \n",
    "            while node:#ループにして情報を取得していく\n",
    "                # 語を取得\n",
    "                word = node.surface#surfaceで表層形\n",
    "                # 品詞を取得\n",
    "                part = node.feature.split(\",\")[0]#featureで形態素情報　[0]で品詞取得\n",
    "\n",
    "                if part in [\"名詞\"]:#取得した品詞が一致するなら\n",
    "                     token_list.append(word)#リストに追加   \n",
    "                node = node.next\n",
    "            rl = (\" \".join(token_list)).strip()\n",
    "            results.append(rl)\n",
    "        w_file = \"result_\"+text\n",
    "        with open(w_file, 'w', encoding='utf-8') as wf:\n",
    "            wf.write(\"\\n\".join(results))  \n",
    "\n",
    "#小泉八雲\n",
    "tokenize('yukionna.txt') \n",
    "tokenize('noctilucae.txt') \n",
    "tokenize('hashino_uede.txt') \n",
    "tokenize('a_dead_secret.txt') \n",
    "tokenize('at_a_railway_station.txt') \n",
    "#夏目漱石による小説を5つ程度用意\n",
    "tokenize('ichiya.txt') \n",
    "tokenize('yukionna.txt') \n",
    "tokenize('carlyle_hakubutsukan.txt') \n",
    "tokenize('gubijinso.txt') \n",
    "tokenize('ganjitsu.txt') \n",
    "#\t太宰 治\n",
    "tokenize('umi.txt')\n",
    "tokenize('itto.txt')\n",
    "tokenize('ichimon_itto.txt')\n",
    "tokenize('aru_chukoku.txt')\n",
    "tokenize('anitachi.txt')"
   ]
  },
  {
   "cell_type": "code",
   "execution_count": 3,
   "metadata": {},
   "outputs": [
    {
     "name": "stdout",
     "output_type": "stream",
     "text": [
      "[[ 0.    0.    0.   ...,  0.    0.    0.  ]\n",
      " [ 0.    0.    0.   ...,  0.    0.    0.13]\n",
      " [ 0.    0.05  0.   ...,  0.    0.    0.  ]\n",
      " ..., \n",
      " [ 0.04  0.    0.   ...,  0.    0.    0.  ]\n",
      " [ 0.    0.    0.   ...,  0.09  0.    0.  ]\n",
      " [ 0.    0.    0.   ...,  0.    0.    0.  ]]\n"
     ]
    }
   ],
   "source": [
    "# tf-idf を重みとする単語文書行列に変換\n",
    "#resultしたものは名詞限定になっている\n",
    "t1='result_yukionna.txt'#小泉八雲\n",
    "t2='result_noctilucae.txt'#小泉八雲\n",
    "t3='result_hashino_uede.txt'#小泉八雲\n",
    "t4='result_carlyle_hakubutsukan.txt'#夏目漱石\n",
    "t5='result_gubijinso.txt'#夏目漱石\n",
    "t6='result_ganjitsu.txt'#夏目漱石\n",
    "t7='result_umi.txt'#\t太宰 治\n",
    "t8='result_itto.txt'#\t太宰 治\n",
    "t9='result_ichimon_itto.txt'#\t太宰 治\n",
    "t10='result_a_dead_secret.txt'#小泉八雲\n",
    "t11='result_yukionna.txt'#夏目漱石\n",
    "t12='result_aru_chukoku.txt'#\t太宰 治\n",
    "t13='result_at_a_railway_station.txt'#小泉八雲\n",
    "t14='result_ichiya.txt'#夏目漱石\n",
    "t15='result_anitachi.txt'#\t太宰 治\n",
    "\n",
    "\n",
    "vectorizer = CountVectorizer(input='filename')\n",
    "corpus=[t1,t2,t3,t4,t5,t6,t7,t8,t9,t10,t11,t12,t13,t14,t15]  \n",
    "matrix = vectorizer.fit_transform(corpus)\n",
    "#CountVectorizer で得られた単語文書行列を，TfidfTransformer でtf-idfの行列に変換する\n",
    "tfidf = TfidfTransformer()\n",
    "tfidf_matrix = tfidf.fit_transform(matrix)\n",
    "np.set_printoptions(precision=2) \n",
    "population = np.array(tfidf_matrix.toarray())\n",
    "print(population)"
   ]
  },
  {
   "cell_type": "code",
   "execution_count": 4,
   "metadata": {},
   "outputs": [
    {
     "data": {
      "text/plain": [
       "array([2, 1, 0, 1, 1, 0, 0, 0, 1, 1, 2, 1, 0, 1, 0])"
      ]
     },
     "execution_count": 4,
     "metadata": {},
     "output_type": "execute_result"
    }
   ],
   "source": [
    "#1\n",
    "kmeans = KMeans(n_clusters=3).fit(population)     # クラスタ数を指定して，クラスタリング実行\n",
    "labels = kmeans.labels_        # 各データのクラスタ番号を取得\n",
    "labels\n"
   ]
  },
  {
   "cell_type": "code",
   "execution_count": 5,
   "metadata": {},
   "outputs": [
    {
     "data": {
      "text/plain": [
       "array([[ 0.89,  0.05],\n",
       "       [-0.1 , -0.35],\n",
       "       [-0.14,  0.41],\n",
       "       [-0.14, -0.27],\n",
       "       [-0.12, -0.27],\n",
       "       [-0.13, -0.28],\n",
       "       [-0.14,  0.49],\n",
       "       [-0.2 ,  0.28],\n",
       "       [-0.12, -0.19],\n",
       "       [-0.08, -0.2 ],\n",
       "       [ 0.89,  0.05],\n",
       "       [-0.13, -0.09],\n",
       "       [-0.18,  0.34],\n",
       "       [-0.1 , -0.24],\n",
       "       [-0.2 ,  0.26]])"
      ]
     },
     "execution_count": 5,
     "metadata": {},
     "output_type": "execute_result"
    }
   ],
   "source": [
    "#2\n",
    "#各データの次元を2次元に削減\n",
    "transformed  = PCA(n_components=2).fit_transform(population)\n",
    "transformed"
   ]
  },
  {
   "cell_type": "code",
   "execution_count": 9,
   "metadata": {},
   "outputs": [
    {
     "data": {
      "image/png": "[encoded data removed]",
      "text/plain": [
       "<matplotlib.figure.Figure at 0x1dd0891f9e8>"
      ]
     },
     "metadata": {},
     "output_type": "display_data"
    }
   ],
   "source": [
    "#%matplotlib inline\n",
    "plt.scatter(transformed[:,0], transformed[:,1],c=labels) # 1列目のデータをx軸の値、2列目のデータをy軸の値として与える。\n",
    "plt.colorbar()\n",
    "for i,(x,y) in enumerate(zip(transformed[:,0], transformed[:,1])):\n",
    "    plt.annotate(str(i),(x,y))\n",
    "plt.xlabel('xlabel') # x軸\n",
    "plt.ylabel('ylabel') # y軸\n",
    "plt.show() "
   ]
  },
  {
   "cell_type": "code",
   "execution_count": null,
   "metadata": {
    "collapsed": true
   },
   "outputs": [],
   "source": []
  },
  {
   "cell_type": "code",
   "execution_count": null,
   "metadata": {
    "collapsed": true
   },
   "outputs": [],
   "source": []
  },
  {
   "cell_type": "code",
   "execution_count": null,
   "metadata": {
    "collapsed": true
   },
   "outputs": [],
   "source": []
  },
  {
   "cell_type": "code",
   "execution_count": null,
   "metadata": {
    "collapsed": true
   },
   "outputs": [],
   "source": []
  },
  {
   "cell_type": "code",
   "execution_count": null,
   "metadata": {
    "collapsed": true
   },
   "outputs": [],
   "source": []
  },
  {
   "cell_type": "code",
   "execution_count": null,
   "metadata": {
    "collapsed": true
   },
   "outputs": [],
   "source": []
  },
  {
   "cell_type": "code",
   "execution_count": null,
   "metadata": {
    "collapsed": true
   },
   "outputs": [],
   "source": []
  },
  {
   "cell_type": "code",
   "execution_count": null,
   "metadata": {
    "collapsed": true
   },
   "outputs": [],
   "source": []
  },
  {
   "cell_type": "code",
   "execution_count": 19,
   "metadata": {},
   "outputs": [
    {
     "name": "stdout",
     "output_type": "stream",
     "text": [
      "['result_yukionna.txt' 'result_noctilucae.txt' 'result_hashino_uede.txt'\n",
      " 'result_carlyle_hakubutsukan.txt' 'result_gubijinso.txt'\n",
      " 'result_ganjitsu.txt' 'result_umi.txt' 'result_itto.txt'\n",
      " 'result_ichimon_itto.txt' 'result_a_dead_secret.txt' 'result_yukionna.txt'\n",
      " 'result_aru_chukoku.txt' 'result_at_a_railway_station.txt'\n",
      " 'result_ichiya.txt' 'result_anitachi.txt']\n",
      "[0 0 0 1 1 1 2 2 2 0 1 2 0 1 2]\n"
     ]
    }
   ],
   "source": [
    "#文書の順番に作者番号が並んだ作者番号リスト（正解ラベルの1次元配列）を作成\n",
    "doc_info = pd.read_csv('token_files.csv',encoding='cp932')\n",
    "#print(doc_info)\n",
    "files = doc_info['文書'].values\n",
    "print(files)\n",
    "author_codes = doc_info['著者コード'].values \n",
    "print(author_codes)\n",
    "#文書ベクトルと作者番号リストを，訓練用とテスト用に分割\n",
    "#今回は半分に\n",
    "docs_train    = population[:13]        # 訓練データ\n",
    "authors_train = author_codes[:13]  # 正解ラベル\n",
    "docs_test     = population[13:]         # テストデータ\n",
    "authors_test  = author_codes[13:]   # 正解ラベル"
   ]
  },
  {
   "cell_type": "code",
   "execution_count": 20,
   "metadata": {},
   "outputs": [
    {
     "data": {
      "image/png": "[encoded data removed]",
      "text/plain": [
       "<matplotlib.figure.Figure at 0x1946aa96b38>"
      ]
     },
     "metadata": {},
     "output_type": "display_data"
    }
   ],
   "source": [
    "    pca = PCA(n_components=2)\n",
    "    pca.fit(docs_train)\n",
    "\n",
    "    # 分析結果を元にデータセットを主成分に変換する\n",
    "    transformed = pca.fit_transform(docs_train)\n",
    "\n",
    "    # 主成分をプロットする\n",
    "    for label in np.unique(authors_train):\n",
    "        plt.scatter(transformed[authors_train == label, 0],\n",
    "                    transformed[authors_train == label, 1])\n",
    "    plt.title('principal component')\n",
    "    plt.xlabel('pc1')\n",
    "    plt.ylabel('pc2')\n",
    "\n",
    "    # 主成分の寄与率を出力する\n",
    "   # print('各次元の寄与率: {0}'.format(pca.explained_variance_ratio_))\n",
    "  #  print('累積寄与率: {0}'.format(sum(pca.explained_variance_ratio_)))\n",
    "\n",
    "    # グラフを表示する\n",
    "    plt.show()"
   ]
  },
  {
   "cell_type": "code",
   "execution_count": null,
   "metadata": {
    "collapsed": true
   },
   "outputs": [],
   "source": []
  },
  {
   "cell_type": "code",
   "execution_count": null,
   "metadata": {
    "collapsed": true
   },
   "outputs": [],
   "source": []
  },
  {
   "cell_type": "code",
   "execution_count": 17,
   "metadata": {},
   "outputs": [
    {
     "data": {
      "text/plain": [
       "PCA(copy=True, iterated_power='auto', n_components=2, random_state=None,\n",
       "  svd_solver='auto', tol=0.0, whiten=False)"
      ]
     },
     "execution_count": 17,
     "metadata": {},
     "output_type": "execute_result"
    }
   ],
   "source": [
    "pca = PCA(n_components=2)\n",
    "pca.fit(population)\n"
   ]
  },
  {
   "cell_type": "code",
   "execution_count": null,
   "metadata": {
    "collapsed": true
   },
   "outputs": [],
   "source": []
  },
  {
   "cell_type": "code",
   "execution_count": 6,
   "metadata": {
    "collapsed": true
   },
   "outputs": [],
   "source": [
    "#データのスケーリング（正規化）はtf-idfなのでOK"
   ]
  },
  {
   "cell_type": "code",
   "execution_count": null,
   "metadata": {
    "collapsed": true
   },
   "outputs": [],
   "source": [
    "#numpy の配列 ndarray のソーティングより\n",
    "\n",
    "#vectorizer.get_feature_names() 特徴名（単語）\n",
    "#tfidf_matrix.toarray()  # tf-idfの行列\n",
    "name_list = np.array(vectorizer.get_feature_names())\n",
    "population = np.array(tfidf_matrix.toarray())\n",
    "print(population)\n",
    "indices = np.argsort(-population)\n",
    "#品詞を名詞に限定した場合\n",
    "#大きい値ほど各文書を特徴付ける単語　 値の多い順に20件表示\n",
    "print(name_list[indices[::,0:20]])"
   ]
  },
  {
   "cell_type": "code",
   "execution_count": null,
   "metadata": {
    "collapsed": true
   },
   "outputs": [],
   "source": []
  },
  {
   "cell_type": "code",
   "execution_count": null,
   "metadata": {
    "collapsed": true
   },
   "outputs": [],
   "source": [
    "# tf-idf を重みとする単語文書行列に変換\n",
    "#resultしたものは名詞限定になっている\n",
    "t1='result_yukionna.txt'\n",
    "t2='result_noctilucae.txt'\n",
    "t3='result_hashino_uede.txt'\n",
    "t4='result_carlyle_hakubutsukan.txt'\n",
    "t5='result_gubijinso.txt'\n",
    "t6='result_ganjitsu.txt'\n",
    "t7='result_a_dead_secret.txt'\n",
    "t8='result_at_a_railway_station.txt'\n",
    "t9='result_ichiya.txt'\n",
    "t10='result_yukionna.txt'\n",
    "\n",
    "\n",
    "\n",
    "\n",
    "\n",
    "\n",
    "vectorizer = CountVectorizer(input='filename')\n",
    "corpus=[t1,t2,t3,t4,t5,t6,t7,t8,t9,t10]  \n",
    "matrix = vectorizer.fit_transform(corpus)\n",
    "#print(matrix)\n",
    "#CountVectorizer で得られた単語文書行列を，TfidfTransformer でtf-idfの行列に変換する\n",
    "tfidf = TfidfTransformer()#norm='l2'\n",
    "tfidf_matrix = tfidf.fit_transform(matrix)\n",
    "np.set_printoptions(precision=2) \n",
    "\n",
    "#numpy の配列 ndarray のソーティングより\n",
    "\n",
    "#vectorizer.get_feature_names() 特徴名（単語）\n",
    "#tfidf_matrix.toarray()  # tf-idfの行列\n",
    "name_list = np.array(vectorizer.get_feature_names())\n",
    "population = np.array(tfidf_matrix.toarray())\n",
    "print(population)\n",
    "indices = np.argsort(-population)\n",
    "#品詞を名詞に限定した場合\n",
    "#大きい値ほど各文書を特徴付ける単語　 値の多い順に20件表示\n",
    "#print(name_list[indices[::,0:20]])"
   ]
  },
  {
   "cell_type": "code",
   "execution_count": null,
   "metadata": {
    "collapsed": true
   },
   "outputs": [],
   "source": [
    "kmeans = KMeans(n_clusters=3).fit(population)     # クラスタ数を指定して，クラスタリング実行\n",
    "labels = kmeans.labels_        # 各データのクラスタ番号を取得\n",
    "labels"
   ]
  },
  {
   "cell_type": "code",
   "execution_count": 9,
   "metadata": {},
   "outputs": [
    {
     "data": {
      "text/plain": [
       "SVC(C=1, cache_size=200, class_weight=None, coef0=0.0,\n",
       "  decision_function_shape=None, degree=3, gamma='auto', kernel='linear',\n",
       "  max_iter=-1, probability=False, random_state=None, shrinking=True,\n",
       "  tol=0.001, verbose=False)"
      ]
     },
     "execution_count": 9,
     "metadata": {},
     "output_type": "execute_result"
    }
   ],
   "source": [
    "# 分類器を生成\n",
    "clf =SVC(kernel='linear',  C=1)#パラメータ設定は\n",
    "#sklearn.model_selection.GridSearchCV を使った\n",
    "# 訓練データを使って学習\n",
    "clf.fit(docs_train, authors_train)"
   ]
  }
 ],
 "metadata": {
  "kernelspec": {
   "display_name": "Python 3",
   "language": "python",
   "name": "python3"
  },
  "language_info": {
   "codemirror_mode": {
    "name": "ipython",
    "version": 3
   },
   "file_extension": ".py",
   "mimetype": "text/x-python",
   "name": "python",
   "nbconvert_exporter": "python",
   "pygments_lexer": "ipython3",
   "version": "3.6.1"
  }
 },
 "nbformat": 4,
 "nbformat_minor": 2
}
