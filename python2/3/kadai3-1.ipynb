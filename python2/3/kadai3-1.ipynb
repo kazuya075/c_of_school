{
 "cells": [
  {
   "cell_type": "code",
   "execution_count": 8,
   "metadata": {},
   "outputs": [
    {
     "name": "stdout",
     "output_type": "stream",
     "text": [
      "中山拓磨\n",
      "\n",
      "なかやまたくま\n",
      "\n",
      "1163033134\n",
      "\n",
      "小柳和哉\n",
      "\n",
      "こやなぎかずや\n",
      "\n",
      "1163033075\n",
      "\n",
      "石橋陽典\n",
      "\n",
      "いしばしようすけ\n",
      "\n",
      "1163033018\n",
      "\n",
      "松永大希\n",
      "\n",
      "まつながだいき\n",
      "\n",
      "1163033151\n"
     ]
    }
   ],
   "source": [
    "data = open(\"name.txt\", \"r\")\n",
    "\n",
    "# 行ごとにすべて読み込んでリストデータにする\n",
    "lines = data.readlines()\n",
    "\n",
    "# 一行ずつ表示する\n",
    "for line in lines:\n",
    "  print(line)\n",
    "\n",
    "# ファイルをクローズする\n",
    "data.close()"
   ]
  },
  {
   "cell_type": "code",
   "execution_count": 9,
   "metadata": {},
   "outputs": [
    {
     "data": {
      "text/plain": [
       "8"
      ]
     },
     "execution_count": 9,
     "metadata": {},
     "output_type": "execute_result"
    }
   ],
   "source": [
    " s= 'aaaabbaabbaa\\n'\n",
    " s.count('a')  "
   ]
  },
  {
   "cell_type": "code",
   "execution_count": null,
   "metadata": {
    "collapsed": true
   },
   "outputs": [],
   "source": []
  }
 ],
 "metadata": {
  "kernelspec": {
   "display_name": "Python 3",
   "language": "python",
   "name": "python3"
  },
  "language_info": {
   "codemirror_mode": {
    "name": "ipython",
    "version": 3
   },
   "file_extension": ".py",
   "mimetype": "text/x-python",
   "name": "python",
   "nbconvert_exporter": "python",
   "pygments_lexer": "ipython3",
   "version": "3.6.1"
  }
 },
 "nbformat": 4,
 "nbformat_minor": 2
}
