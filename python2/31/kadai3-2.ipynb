{
 "cells": [
  {
   "cell_type": "code",
   "execution_count": 1,
   "metadata": {},
   "outputs": [
    {
     "name": "stdout",
     "output_type": "stream",
     "text": [
      "['1163033134', '1163033075', '1163033018', '1163033151'] :keys\n",
      "['中山拓磨', '小柳和哉', '石橋陽典', '松永大希'] :line\n",
      "['なかやまたくま', 'こやなぎかずや', 'いしばしようすけ', 'まつながだいき'] :line2\n",
      "['中山拓磨 なかやまたくま', '小柳和哉 こやなぎかずや', '石橋陽典 いしばしようすけ', '松永大希 まつながだいき'] :val\n"
     ]
    }
   ],
   "source": [
    "i=0\n",
    "keys =[]#dicのkey用リスト\n",
    "lines=[]#読み取った値を一時的に格納用\n",
    "lines2=[]#\n",
    "values=[]#dicのvalues用リスト\n",
    "\n",
    "f = open(\"name.txt\", \"r\")#ファイルを開く\n",
    "line_read = f.readlines() # 1行毎にファイル終端まで全て読む(改行文字も含まれる)\n",
    "num_lines = sum(1 for line in open(\"name.txt\", \"r\"))#テキストデータの行数\n",
    "\n",
    "for line in line_read:#要素をリストに\n",
    "    if i%3==0:#0,3,6･･･\n",
    "        lines.append(line.strip())#氏名\n",
    "    if i%3==1:#1,4,7･･･\n",
    "        lines2.append(line.strip())#読み仮名\n",
    "    if i%3==2:#2,5,8･･･\n",
    "        keys.append(line.strip())#番号\n",
    "    i+=1\n",
    "\n",
    "n=int(num_lines/3)#\n",
    "for num in range(n):#valuesに氏名読み仮名合わせた物を加える\n",
    "    values.append(lines[num]+\" \"+lines2[num])\n",
    "\n",
    "print(keys,\":keys\")#key表示\n",
    "print(lines,\":line\")#lines表示\n",
    "print(lines2,\":line2\")#lines2表示\n",
    "\n",
    "print(values,\":val\")#val表示\n",
    "\n",
    "dic = dict(zip(keys, values)) #dictionaryにkeyとval格納\n",
    "\n",
    "f.close()"
   ]
  },
  {
   "cell_type": "code",
   "execution_count": 7,
   "metadata": {},
   "outputs": [
    {
     "data": {
      "text/plain": [
       "12"
      ]
     },
     "execution_count": 7,
     "metadata": {},
     "output_type": "execute_result"
    }
   ],
   "source": [
    "sum([1 for line in open(\"name.txt\", \"r\")])"
   ]
  },
  {
   "cell_type": "code",
   "execution_count": 2,
   "metadata": {},
   "outputs": [
    {
     "name": "stdout",
     "output_type": "stream",
     "text": [
      "key: 1163033075 val: 小柳和哉 こやなぎかずや\n"
     ]
    }
   ],
   "source": [
    "keyword=\"1163033134\"\n",
    "#val = dic[keyword]\n",
    "print(\"key:\",keyword,\"val:\",dic.get(keyword))\n",
    "#dic.get(keyword)で例外ありのdic表示"
   ]
  },
  {
   "cell_type": "code",
   "execution_count": 3,
   "metadata": {},
   "outputs": [
    {
     "name": "stdout",
     "output_type": "stream",
     "text": [
      "key: 116303313 val: None\n"
     ]
    }
   ],
   "source": [
    "keyword=\"116303313\"#例外\n",
    "#val = dic[keyword]\n",
    "print(\"key:\",keyword,\"val:\",dic.get(keyword))"
   ]
  },
  {
   "cell_type": "code",
   "execution_count": 4,
   "metadata": {
    "collapsed": true
   },
   "outputs": [],
   "source": [
    "\n",
    "#val[0]=values[0]+values2[0]\n",
    "#\"\"\"\n",
    "\n",
    "#\"\"\"\n",
    "#print(val[0])\n",
    "#print(values3)\n",
    "#str=values[1]+values2[1]\n",
    "#print(str)"
   ]
  }
 ],
 "metadata": {
  "kernelspec": {
   "display_name": "Python 3",
   "language": "python",
   "name": "python3"
  },
  "language_info": {
   "codemirror_mode": {
    "name": "ipython",
    "version": 3
   },
   "file_extension": ".py",
   "mimetype": "text/x-python",
   "name": "python",
   "nbconvert_exporter": "python",
   "pygments_lexer": "ipython3",
   "version": "3.6.1"
  }
 },
 "nbformat": 4,
 "nbformat_minor": 2
}
